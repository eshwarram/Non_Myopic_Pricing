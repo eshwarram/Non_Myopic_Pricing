{
 "cells": [
  {
   "cell_type": "code",
   "execution_count": 1,
   "metadata": {},
   "outputs": [
    {
     "name": "stdout",
     "output_type": "stream",
     "text": [
      "No problems\n"
     ]
    }
   ],
   "source": [
    "import math\n",
    "import random\n",
    "import gymnasium as gym\n",
    "import numpy as np\n",
    "from stable_baselines3.common.env_checker import check_env\n",
    "print(\"No problems\")"
   ]
  },
  {
   "cell_type": "code",
   "execution_count": 2,
   "metadata": {},
   "outputs": [],
   "source": [
    "class Learner_MW:\n",
    "    def __init__(self, num_actions):\n",
    "        self.num_actions = num_actions\n",
    "        self.weights = [1] * num_actions  # Initial weights for all actions\n",
    "\n",
    "    def choose_action(self):\n",
    "        total_weight = sum(self.weights)\n",
    "        probabilities = [weight / total_weight for weight in self.weights]\n",
    "        action = random.choices(range(self.num_actions), probabilities)[0]\n",
    "        return action\n",
    "\n",
    "    #MW update with a fixed learning rate, this is the theoretical object we study, although having len(transcript) instead provides better results \n",
    "    def update_weights(self, action, reward, transcript, total_time):\n",
    "        eta = math.sqrt(2 * math.log(self.num_actions) / total_time)\n",
    "        for i in range(self.num_actions):\n",
    "            self.weights[i] *= math.exp(eta * reward[i])  # Update weights based on counterfactual payoff\n",
    "\n",
    "    def action_probs_cumulative(self, cumulative, total_time):\n",
    "        if len(cumulative) != self.num_actions:\n",
    "            return \"Serious error\"\n",
    "        eta = math.sqrt(2 * math.log(self.num_actions) / total_time)\n",
    "        weights = [1] * self.num_actions  # Initial weights for all actions\n",
    "        for i in range(self.num_actions):\n",
    "            weights[i] = math.exp(eta * cumulative[i] )  # Update weights based on counterfactual payoff\n",
    "        total_weight = sum(weights)\n",
    "        probabilities = [weight / total_weight for weight in weights]\n",
    "        #The function has been tested\n",
    "        #print(\"Probabilities = \", probabilities)\n",
    "        return probabilities"
   ]
  },
  {
   "cell_type": "code",
   "execution_count": 3,
   "metadata": {},
   "outputs": [],
   "source": [
    "\n",
    "\n",
    "class SimplexSpace(gym.spaces.Space):\n",
    "    \"\"\"\n",
    "    Defines the action space as a probability simplex over m outcomes.\n",
    "    \"\"\"\n",
    "\n",
    "    def __init__(self, m):\n",
    "        \"\"\"\n",
    "        Initializes the SimplexSpace.\n",
    "\n",
    "        Parameters:\n",
    "            - m (int): Number of outcomes.\n",
    "        \"\"\"\n",
    "        assert m >= 2, \"Number of outcomes 'm' must be at least 2.\"\n",
    "        super(SimplexSpace, self).__init__(shape=(m,), dtype=np.float32)\n",
    "        self.m = m\n",
    "\n",
    "    def sample(self):\n",
    "        \"\"\"\n",
    "        Generates a random sample from the simplex space.\n",
    "        \"\"\"\n",
    "        sample = np.random.dirichlet(np.ones(self.m))\n",
    "        return sample\n",
    "\n",
    "\n",
    "    def contains(self, x):\n",
    "        \"\"\"\n",
    "        Checks if a given point is within the simplex space.\n",
    "\n",
    "        Parameters:\n",
    "            - x (array-like): Point to be checked.\n",
    "\n",
    "        Returns:\n",
    "            - bool: True if the point is within the space, False otherwise.\n",
    "        \"\"\"\n",
    "        if len(x) != self.m:\n",
    "            return False\n",
    "        if np.sum(x) != 1.0:\n",
    "            return False\n",
    "        if np.any(x < 0):\n",
    "            return False\n",
    "        return True\n",
    "\n",
    "    def seed(self, seed=None):\n",
    "        \"\"\"\n",
    "        Seeds the pseudo-random number generator for this space.\n",
    "\n",
    "        Parameters:\n",
    "            - seed (int or None): The seed to use. If None, a random seed will be chosen.\n",
    "\n",
    "        Returns:\n",
    "            - list[int]: The list of seeds used for seeding the PRNG.\n",
    "        \"\"\"\n",
    "        if seed is None:\n",
    "            seed = np.random.randint(0, 2**32 - 1)\n",
    "        np.random.seed(seed)\n",
    "        return [seed]\n"
   ]
  }
 ],
 "metadata": {
  "kernelspec": {
   "display_name": "rl_env",
   "language": "python",
   "name": "python3"
  },
  "language_info": {
   "codemirror_mode": {
    "name": "ipython",
    "version": 3
   },
   "file_extension": ".py",
   "mimetype": "text/x-python",
   "name": "python",
   "nbconvert_exporter": "python",
   "pygments_lexer": "ipython3",
   "version": "3.10.14"
  }
 },
 "nbformat": 4,
 "nbformat_minor": 2
}
